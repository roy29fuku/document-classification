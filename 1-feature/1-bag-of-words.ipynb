{
 "cells": [
  {
   "cell_type": "markdown",
   "metadata": {},
   "source": [
    "# 特徴量1 Bag of Words"
   ]
  },
  {
   "cell_type": "markdown",
   "metadata": {},
   "source": [
    "文書をBag of Wordsに変換します\n",
    "\n",
    "テキストデータにはニュース記事（Brown Corpus）を使用します\n",
    "- 500文書\n",
    "- 116万単語\n",
    "- 15カテゴリー"
   ]
  },
  {
   "cell_type": "code",
   "execution_count": 1,
   "metadata": {},
   "outputs": [],
   "source": [
    "import csv\n",
    "from nltk.corpus import brown\n",
    "from tqdm import tqdm_notebook as tqdm\n",
    "tqdm.monitor_interval = 0"
   ]
  },
  {
   "cell_type": "code",
   "execution_count": 2,
   "metadata": {},
   "outputs": [
    {
     "data": {
      "text/plain": [
       "['Romantic',\n",
       " 'news',\n",
       " 'concerns',\n",
       " 'Mrs.',\n",
       " 'Joan',\n",
       " 'Monroe',\n",
       " 'Armour',\n",
       " 'and',\n",
       " 'F.',\n",
       " 'Lee']"
      ]
     },
     "execution_count": 2,
     "metadata": {},
     "output_type": "execute_result"
    }
   ],
   "source": [
    "# 文書一例\n",
    "brown.words(fileids=['ca16'])[:10]"
   ]
  },
  {
   "cell_type": "code",
   "execution_count": 3,
   "metadata": {},
   "outputs": [
    {
     "data": {
      "text/plain": [
       "['adventure',\n",
       " 'belles_lettres',\n",
       " 'editorial',\n",
       " 'fiction',\n",
       " 'government',\n",
       " 'hobbies',\n",
       " 'humor',\n",
       " 'learned',\n",
       " 'lore',\n",
       " 'mystery',\n",
       " 'news',\n",
       " 'religion',\n",
       " 'reviews',\n",
       " 'romance',\n",
       " 'science_fiction']"
      ]
     },
     "execution_count": 3,
     "metadata": {},
     "output_type": "execute_result"
    }
   ],
   "source": [
    "# カテゴリー\n",
    "cat_to_id = {c:i for i, c in enumerate(brown.categories())}\n",
    "id_to_cat = {v:k for k, v in cat_to_id.items()}\n",
    "brown.categories()"
   ]
  },
  {
   "cell_type": "markdown",
   "metadata": {},
   "source": [
    "---"
   ]
  },
  {
   "cell_type": "code",
   "execution_count": 4,
   "metadata": {},
   "outputs": [
    {
     "data": {
      "application/vnd.jupyter.widget-view+json": {
       "model_id": "2f8f3aa74cad4f1ca5289af1730a5c4f",
       "version_major": 2,
       "version_minor": 0
      },
      "text/html": [
       "<p>Failed to display Jupyter Widget of type <code>HBox</code>.</p>\n",
       "<p>\n",
       "  If you're reading this message in the Jupyter Notebook or JupyterLab Notebook, it may mean\n",
       "  that the widgets JavaScript is still loading. If this message persists, it\n",
       "  likely means that the widgets JavaScript library is either not installed or\n",
       "  not enabled. See the <a href=\"https://ipywidgets.readthedocs.io/en/stable/user_install.html\">Jupyter\n",
       "  Widgets Documentation</a> for setup instructions.\n",
       "</p>\n",
       "<p>\n",
       "  If you're reading this message in another frontend (for example, a static\n",
       "  rendering on GitHub or <a href=\"https://nbviewer.jupyter.org/\">NBViewer</a>),\n",
       "  it may mean that your frontend doesn't currently support widgets.\n",
       "</p>\n"
      ],
      "text/plain": [
       "HBox(children=(IntProgress(value=0, max=500), HTML(value='')))"
      ]
     },
     "metadata": {},
     "output_type": "display_data"
    },
    {
     "name": "stdout",
     "output_type": "stream",
     "text": [
      "\n",
      "語彙数: 49815\n",
      "['coveting', 'next-to-last', 'over-', 'capability', 'schwarzen']\n"
     ]
    }
   ],
   "source": [
    "# 全文書から語彙の作成\n",
    "# 前処理は小文字化だけ\n",
    "all_words = []\n",
    "for fileid in tqdm(brown.fileids()):\n",
    "    all_words.extend(brown.words(fileids=[fileid]))\n",
    "\n",
    "vocab = list(set([w.lower() for w in all_words]))\n",
    "print('語彙数: {}'.format(len(vocab)))\n",
    "print(vocab[:5])\n",
    "\n",
    "# 単語とインデックスの変換辞書を作っておく\n",
    "word_to_id = {v:i+1 for i, v in enumerate(vocab)}\n",
    "id_to_word = {v:k for k, v in word_to_id.items()}"
   ]
  },
  {
   "cell_type": "code",
   "execution_count": 5,
   "metadata": {},
   "outputs": [],
   "source": [
    "# 文書をBoWに変換する関数\n",
    "def doc_to_bow(words, vocab):\n",
    "    bow = [0] * len(vocab)\n",
    "    for word in words:\n",
    "        bow[vocab.index(word.lower())] += 1\n",
    "    return bow"
   ]
  },
  {
   "cell_type": "code",
   "execution_count": 6,
   "metadata": {},
   "outputs": [
    {
     "data": {
      "application/vnd.jupyter.widget-view+json": {
       "model_id": "14dfc2d068504581ad7bdf4c254b17f5",
       "version_major": 2,
       "version_minor": 0
      },
      "text/html": [
       "<p>Failed to display Jupyter Widget of type <code>HBox</code>.</p>\n",
       "<p>\n",
       "  If you're reading this message in the Jupyter Notebook or JupyterLab Notebook, it may mean\n",
       "  that the widgets JavaScript is still loading. If this message persists, it\n",
       "  likely means that the widgets JavaScript library is either not installed or\n",
       "  not enabled. See the <a href=\"https://ipywidgets.readthedocs.io/en/stable/user_install.html\">Jupyter\n",
       "  Widgets Documentation</a> for setup instructions.\n",
       "</p>\n",
       "<p>\n",
       "  If you're reading this message in another frontend (for example, a static\n",
       "  rendering on GitHub or <a href=\"https://nbviewer.jupyter.org/\">NBViewer</a>),\n",
       "  it may mean that your frontend doesn't currently support widgets.\n",
       "</p>\n"
      ],
      "text/plain": [
       "HBox(children=(IntProgress(value=0, max=500), HTML(value='')))"
      ]
     },
     "metadata": {},
     "output_type": "display_data"
    },
    {
     "name": "stdout",
     "output_type": "stream",
     "text": [
      "\n"
     ]
    }
   ],
   "source": [
    "# 文書のBoW、カテゴリーを取得\n",
    "bows = []\n",
    "labels = []\n",
    "for fileid in tqdm(brown.fileids()):\n",
    "    words = brown.words(fileids=[fileid])\n",
    "    bows.append(doc_to_bow(words, vocab))\n",
    "    labels.extend(brown.categories(fileids=[fileid]))"
   ]
  },
  {
   "cell_type": "code",
   "execution_count": 7,
   "metadata": {},
   "outputs": [],
   "source": [
    "# 保存\n",
    "with open('../data/vocab.txt', 'w') as f:\n",
    "    writer = csv.writer(f)\n",
    "    for v in vocab:\n",
    "        writer.writerow([v])\n",
    "\n",
    "with open('../data/label.csv', 'w') as f:\n",
    "    writer = csv.writer(f)\n",
    "    for label in labels:\n",
    "        writer.writerow([cat_to_id[label]])\n",
    "\n",
    "with open('../data/label_map.csv', 'w') as f:\n",
    "    writer = csv.writer(f)\n",
    "    for i in range(len(id_to_cat)):\n",
    "        writer.writerow([id_to_cat[i]])        \n",
    "        \n",
    "with open('../data/bow.csv', 'w') as f:\n",
    "    writer = csv.writer(f)\n",
    "    writer.writerows(bows)"
   ]
  }
 ],
 "metadata": {
  "kernelspec": {
   "display_name": "Python 3",
   "language": "python",
   "name": "python3"
  },
  "language_info": {
   "codemirror_mode": {
    "name": "ipython",
    "version": 3
   },
   "file_extension": ".py",
   "mimetype": "text/x-python",
   "name": "python",
   "nbconvert_exporter": "python",
   "pygments_lexer": "ipython3",
   "version": "3.6.3"
  }
 },
 "nbformat": 4,
 "nbformat_minor": 2
}
