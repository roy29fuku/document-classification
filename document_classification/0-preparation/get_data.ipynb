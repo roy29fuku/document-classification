{
 "cells": [
  {
   "cell_type": "markdown",
   "metadata": {},
   "source": [
    "# データ取得"
   ]
  },
  {
   "cell_type": "markdown",
   "metadata": {},
   "source": [
    "テキストデータにはニュース記事（Brown Corpus）を使用します\n",
    "- 500文書\n",
    "- 116万単語\n",
    "- 15カテゴリー"
   ]
  },
  {
   "cell_type": "code",
   "execution_count": 1,
   "metadata": {},
   "outputs": [],
   "source": [
    "import csv\n",
    "from nltk.corpus import brown\n",
    "from tqdm import tqdm_notebook as tqdm\n",
    "tqdm.monitor_interval = 0"
   ]
  },
  {
   "cell_type": "code",
   "execution_count": 2,
   "metadata": {},
   "outputs": [
    {
     "data": {
      "text/plain": [
       "['Romantic',\n",
       " 'news',\n",
       " 'concerns',\n",
       " 'Mrs.',\n",
       " 'Joan',\n",
       " 'Monroe',\n",
       " 'Armour',\n",
       " 'and',\n",
       " 'F.',\n",
       " 'Lee']"
      ]
     },
     "execution_count": 2,
     "metadata": {},
     "output_type": "execute_result"
    }
   ],
   "source": [
    "# 文書一例\n",
    "brown.words(fileids=['ca16'])[:10]"
   ]
  },
  {
   "cell_type": "code",
   "execution_count": 3,
   "metadata": {},
   "outputs": [
    {
     "data": {
      "text/plain": [
       "['adventure',\n",
       " 'belles_lettres',\n",
       " 'editorial',\n",
       " 'fiction',\n",
       " 'government',\n",
       " 'hobbies',\n",
       " 'humor',\n",
       " 'learned',\n",
       " 'lore',\n",
       " 'mystery',\n",
       " 'news',\n",
       " 'religion',\n",
       " 'reviews',\n",
       " 'romance',\n",
       " 'science_fiction']"
      ]
     },
     "execution_count": 3,
     "metadata": {},
     "output_type": "execute_result"
    }
   ],
   "source": [
    "# カテゴリー一覧\n",
    "cat_to_id = {c:i for i, c in enumerate(brown.categories())}\n",
    "id_to_cat = {v:k for k, v in cat_to_id.items()}\n",
    "brown.categories()"
   ]
  },
  {
   "cell_type": "markdown",
   "metadata": {},
   "source": [
    "---"
   ]
  },
  {
   "cell_type": "code",
   "execution_count": 4,
   "metadata": {},
   "outputs": [
    {
     "data": {
      "text/html": [
       "<p>Failed to display Jupyter Widget of type <code>HBox</code>.</p>\n",
       "<p>\n",
       "  If you're reading this message in the Jupyter Notebook or JupyterLab Notebook, it may mean\n",
       "  that the widgets JavaScript is still loading. If this message persists, it\n",
       "  likely means that the widgets JavaScript library is either not installed or\n",
       "  not enabled. See the <a href=\"https://ipywidgets.readthedocs.io/en/stable/user_install.html\">Jupyter\n",
       "  Widgets Documentation</a> for setup instructions.\n",
       "</p>\n",
       "<p>\n",
       "  If you're reading this message in another frontend (for example, a static\n",
       "  rendering on GitHub or <a href=\"https://nbviewer.jupyter.org/\">NBViewer</a>),\n",
       "  it may mean that your frontend doesn't currently support widgets.\n",
       "</p>\n"
      ],
      "text/plain": [
       "HBox(children=(IntProgress(value=0, max=500), HTML(value='')))"
      ]
     },
     "metadata": {},
     "output_type": "execute_result"
    },
    {
     "name": "stdout",
     "output_type": "stream",
     "text": [
      "\n"
     ]
    }
   ],
   "source": [
    "# 全文書、ラベル取得（文書分類なので文を結合）\n",
    "docs = []\n",
    "labels = []\n",
    "for fileid in tqdm(brown.fileids()):\n",
    "    sents = brown.sents(fileids=[fileid])\n",
    "    docs.append(' '.join([word for sent in sents for word in sent]))\n",
    "    labels.extend(brown.categories(fileids=[fileid]))"
   ]
  },
  {
   "cell_type": "code",
   "execution_count": 5,
   "metadata": {},
   "outputs": [],
   "source": [
    "# カテゴリーをラベルに変換\n",
    "label_to_idx = {l:i for i, l in enumerate(list(set(labels)))}\n",
    "idx_to_label = {v:k for k, v in label_to_idx.items()}"
   ]
  },
  {
   "cell_type": "code",
   "execution_count": 6,
   "metadata": {},
   "outputs": [],
   "source": [
    "# 保存\n",
    "with open('../data/data.txt', 'w') as f:\n",
    "    f.write('\\n'.join(docs))\n",
    "    \n",
    "with open('../data/label.txt', 'w') as f:\n",
    "    idx = [label_to_idx[l] for l in labels]\n",
    "    f.write('\\n'.join(str(idx)))\n",
    "    \n",
    "with open('../data/lable_map.txt', 'w') as f:\n",
    "    for i in range(len(idx_to_label)):\n",
    "        f.write(idx_to_label[i]+'\\n')"
   ]
  },
  {
   "cell_type": "code",
   "execution_count": null,
   "metadata": {},
   "outputs": [],
   "source": []
  }
 ],
 "metadata": {
  "kernelspec": {
   "display_name": "Python 3",
   "language": "python",
   "name": "python3"
  },
  "language_info": {
   "codemirror_mode": {
    "name": "ipython",
    "version": 3
   },
   "file_extension": ".py",
   "mimetype": "text/x-python",
   "name": "python",
   "nbconvert_exporter": "python",
   "pygments_lexer": "ipython3",
   "version": "3.6.3"
  }
 },
 "nbformat": 4,
 "nbformat_minor": 2
}
