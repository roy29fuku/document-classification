{
 "cells": [
  {
   "cell_type": "markdown",
   "metadata": {},
   "source": [
    "# LSTM POS tagger: char level\n",
    "- simple LSTM model using character embeddings"
   ]
  },
  {
   "cell_type": "code",
   "execution_count": null,
   "metadata": {},
   "outputs": [],
   "source": [
    "%load_ext autoreload\n",
    "%autoreload 2"
   ]
  },
  {
   "cell_type": "markdown",
   "metadata": {},
   "source": [
    "## load data"
   ]
  },
  {
   "cell_type": "code",
   "execution_count": null,
   "metadata": {},
   "outputs": [],
   "source": [
    "from data import load_penn_treebank_data"
   ]
  },
  {
   "cell_type": "code",
   "execution_count": null,
   "metadata": {},
   "outputs": [],
   "source": [
    "train_data, test_data = load_penn_treebank_data()"
   ]
  },
  {
   "cell_type": "code",
   "execution_count": null,
   "metadata": {},
   "outputs": [],
   "source": [
    "print('train_data[0][0]: {}'.format(train_data[0][0]))\n",
    "print('train_data[0][1]: {}'.format(train_data[0][1]))"
   ]
  },
  {
   "cell_type": "markdown",
   "metadata": {},
   "source": [
    "----"
   ]
  },
  {
   "cell_type": "markdown",
   "metadata": {},
   "source": [
    "## Convert data to index"
   ]
  },
  {
   "cell_type": "code",
   "execution_count": null,
   "metadata": {},
   "outputs": [],
   "source": [
    "from util import get_conversion_tables, prepare_sequence"
   ]
  },
  {
   "cell_type": "code",
   "execution_count": null,
   "metadata": {},
   "outputs": [],
   "source": [
    "char_to_ix, word_to_ix, tag_to_ix = get_conversion_tables(train_data, min_count=1)\n",
    "n_chars = len(char_to_ix)\n",
    "n_words = len(word_to_ix)\n",
    "n_tags = len(tag_to_ix)\n",
    "print('n_chars: {}'.format(n_chars))\n",
    "print('n_words: {}'.format(n_words))\n",
    "print('n_tags: {}'.format(n_tags))"
   ]
  },
  {
   "cell_type": "markdown",
   "metadata": {},
   "source": [
    "----"
   ]
  },
  {
   "cell_type": "markdown",
   "metadata": {},
   "source": [
    "# LSTM"
   ]
  },
  {
   "cell_type": "code",
   "execution_count": null,
   "metadata": {
    "scrolled": false
   },
   "outputs": [],
   "source": [
    "import torch\n",
    "import torch.nn as nn\n",
    "import torch.nn.functional as F\n",
    "import torch.optim as optim\n",
    "\n",
    "class LSTMTagger(nn.Module):\n",
    "    def __init__(self, n_chars, n_words, n_tags, char_dim, char_lstm_dim, word_dim, hidden_dim):\n",
    "        super(LSTMTagger, self).__init__()\n",
    "\n",
    "        self.n_chars = n_chars\n",
    "        self.n_words = n_words\n",
    "        self.n_tags = n_tags\n",
    "        \n",
    "        self.char_dim = char_dim\n",
    "        self.char_lstm_dim = char_lstm_dim\n",
    "        self.word_dim = word_dim\n",
    "        \n",
    "        self.char_embeddings = nn.Embedding(n_chars, char_dim)\n",
    "        self.char_lstm = nn.LSTM(char_dim, char_lstm_dim)\n",
    "        self.word_embeddings = nn.Embedding(n_words, word_dim)\n",
    "        self.lstm = nn.LSTM(char_dim + word_dim, hidden_dim)\n",
    "        self.hidden2out = nn.Linear(hidden_dim, n_tags)\n",
    "        self.softmax = nn.LogSoftmax(dim=1)\n",
    "        \n",
    "    def forward(self, words, sentence):\n",
    "        # char level\n",
    "        char_embeds = [self.char_embeddings(w) for w in words]\n",
    "        char_lstm_out = [self.char_lstm(ce.view(len(ce), 1, -1))[0][-1][0] for ce in char_embeds]\n",
    "        \n",
    "        # word level table mapping\n",
    "        sent_embeds = self.word_embeddings(sentence)\n",
    "        \n",
    "        # concat word embs and char embs\n",
    "        embeds = [torch.cat((clo, se), 0) for clo, se in zip(char_lstm_out, sent_embeds)]\n",
    "        embeds = torch.stack(embeds)\n",
    "\n",
    "        lstm_out, _ = self.lstm(embeds.view(len(embeds), 1, -1))\n",
    "        tag_space = self.hidden2out(lstm_out.view(len(sentence), -1))\n",
    "        outputs = self.softmax(tag_space)\n",
    "\n",
    "        return outputs"
   ]
  },
  {
   "cell_type": "markdown",
   "metadata": {},
   "source": [
    "----"
   ]
  },
  {
   "cell_type": "markdown",
   "metadata": {},
   "source": [
    "# Train"
   ]
  },
  {
   "cell_type": "code",
   "execution_count": null,
   "metadata": {},
   "outputs": [],
   "source": [
    "CHAR_DIM = 25\n",
    "CHAR_LSTM_DIM = 25\n",
    "WORD_DIM = 100\n",
    "HIDDEN_DIM = 25\n",
    "EPOCH_NUM = 10"
   ]
  },
  {
   "cell_type": "code",
   "execution_count": null,
   "metadata": {},
   "outputs": [],
   "source": [
    "device = torch.device(\"cuda\" if torch.cuda.is_available() else \"cpu\")\n",
    "model = LSTMTagger(n_chars, n_words, n_tags, CHAR_DIM, CHAR_LSTM_DIM, WORD_DIM, HIDDEN_DIM).to(device)\n",
    "loss_function = nn.NLLLoss()\n",
    "optimizer = optim.SGD(model.parameters(), lr=0.1)"
   ]
  },
  {
   "cell_type": "code",
   "execution_count": null,
   "metadata": {},
   "outputs": [],
   "source": [
    "%%time\n",
    "print('using {}'.format(device))\n",
    "\n",
    "for epoch in range(EPOCH_NUM):\n",
    "    running_loss = 0\n",
    "    for i, (sentence, tags) in enumerate(train_data):\n",
    "        model.zero_grad()\n",
    "        \n",
    "        ## char_to_ix\n",
    "        words_in = [prepare_sequence(w, char_to_ix) for w in sentence]\n",
    "        sentence_in = prepare_sequence(sentence, word_to_ix)\n",
    "        targets = prepare_sequence(tags, tag_to_ix)\n",
    "        sentence_in, targets = sentence_in.to(device), targets.to(device)\n",
    "        \n",
    "        outputs = model(words_in, sentence_in)\n",
    "        \n",
    "        loss = loss_function(outputs, targets)\n",
    "\n",
    "        loss.backward()\n",
    "        optimizer.step()\n",
    "        \n",
    "        running_loss += loss.item()\n",
    "        \n",
    "        if i % 2000 == 1999:\n",
    "            print('[%d, %5d] loss: %.3f' %\n",
    "                 (epoch + 1, i + 1, running_loss / 2000))\n",
    "            running_loss = 0.0            \n",
    "        \n",
    "print('finished')"
   ]
  },
  {
   "cell_type": "markdown",
   "metadata": {},
   "source": [
    "---"
   ]
  },
  {
   "cell_type": "markdown",
   "metadata": {},
   "source": [
    "# Evaluate"
   ]
  },
  {
   "cell_type": "code",
   "execution_count": null,
   "metadata": {},
   "outputs": [],
   "source": [
    "correct = 0\n",
    "total = 0\n",
    "\n",
    "with torch.no_grad():\n",
    "    for sentence, tags in test_data:\n",
    "        words_in = [prepare_sequence(w, char_to_ix) for w in sentence]\n",
    "        sentence_in = prepare_sequence(sentence, word_to_ix)\n",
    "        targets = prepare_sequence(tags, tag_to_ix)\n",
    "\n",
    "        outputs = model(words_in, sentence_in)\n",
    "        _, predicted = torch.max(outputs.data, 1)\n",
    "        \n",
    "        total += targets.size(0)\n",
    "        correct += (predicted == targets).sum().item()\n",
    "\n",
    "print('Accuracy: {:.2f} %'.format(100 * correct / total)) "
   ]
  },
  {
   "cell_type": "code",
   "execution_count": null,
   "metadata": {},
   "outputs": [],
   "source": []
  }
 ],
 "metadata": {
  "kernelspec": {
   "display_name": "nlp",
   "language": "python",
   "name": "nlp"
  },
  "language_info": {
   "codemirror_mode": {
    "name": "ipython",
    "version": 3
   },
   "file_extension": ".py",
   "mimetype": "text/x-python",
   "name": "python",
   "nbconvert_exporter": "python",
   "pygments_lexer": "ipython3",
   "version": "3.6.3"
  }
 },
 "nbformat": 4,
 "nbformat_minor": 2
}
