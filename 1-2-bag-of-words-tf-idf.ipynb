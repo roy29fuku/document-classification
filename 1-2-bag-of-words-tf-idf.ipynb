{
 "cells": [
  {
   "cell_type": "markdown",
   "metadata": {},
   "source": [
    "# 特徴量2 Bag of Words + tf-idf"
   ]
  },
  {
   "cell_type": "markdown",
   "metadata": {},
   "source": [
    "1-1-bag-of-wordsで算出したBag of Wordsにtf-idfを掛け合わせます"
   ]
  },
  {
   "cell_type": "code",
   "execution_count": 38,
   "metadata": {},
   "outputs": [],
   "source": [
    "import math\n",
    "import csv\n",
    "import pandas as pd\n",
    "from tqdm import tqdm_notebook as tqdm\n",
    "tqdm.monitor_interval = 0"
   ]
  },
  {
   "cell_type": "code",
   "execution_count": 11,
   "metadata": {},
   "outputs": [],
   "source": [
    "# 1-1で算出したbowをロード\n",
    "bows = pd.read_csv('data/bow.csv', header=None) # (500, 49815)"
   ]
  },
  {
   "cell_type": "code",
   "execution_count": 58,
   "metadata": {},
   "outputs": [],
   "source": [
    "# 各文書の単語数, 文書の総数\n",
    "word_num = bows.sum(axis=1) # (500,)\n",
    "doc_num = len(bows)\n",
    "\n",
    "# tf\n",
    "tf = bows.div(word_num, axis=0) # (500, 49815)\n",
    "\n",
    "# idf\n",
    "doc_num_has_word = bows.applymap(bool).sum(axis=0) # (49815,)\n",
    "idf = (doc_num / doc_num_has_word).apply(math.log) # (49815,)\n",
    "\n",
    "# tf-idf\n",
    "bows_tfidf = tf.mul(idf, axis=1)"
   ]
  },
  {
   "cell_type": "code",
   "execution_count": 64,
   "metadata": {},
   "outputs": [],
   "source": [
    "# 保存\n",
    "bows_tfidf.to_csv('data/bow_tfidf.csv', index=False, header=False)"
   ]
  }
 ],
 "metadata": {
  "kernelspec": {
   "display_name": "Python 3",
   "language": "python",
   "name": "python3"
  },
  "language_info": {
   "codemirror_mode": {
    "name": "ipython",
    "version": 3
   },
   "file_extension": ".py",
   "mimetype": "text/x-python",
   "name": "python",
   "nbconvert_exporter": "python",
   "pygments_lexer": "ipython3",
   "version": "3.6.3"
  }
 },
 "nbformat": 4,
 "nbformat_minor": 2
}
