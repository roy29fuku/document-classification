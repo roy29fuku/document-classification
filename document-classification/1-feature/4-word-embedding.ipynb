{
 "cells": [
  {
   "cell_type": "markdown",
   "metadata": {},
   "source": [
    "# 特徴量4 Word embedding\n",
    "GloVeのpre-trained word vectorsを用いた"
   ]
  },
  {
   "cell_type": "code",
   "execution_count": 4,
   "metadata": {},
   "outputs": [],
   "source": [
    "import csv\n",
    "import numpy as np\n",
    "import gensim.downloader as api"
   ]
  },
  {
   "cell_type": "code",
   "execution_count": 5,
   "metadata": {},
   "outputs": [],
   "source": [
    "def doc_to_wv(doc, glove_wvs):\n",
    "    words = doc.split()\n",
    "    wv = [0] * len(words)\n",
    "    for i, word in enumerate(words):\n",
    "        try:\n",
    "            # gloveでは全て小文字の単語\n",
    "            wv[i] = glove_wvs[word.lower()]\n",
    "        except:\n",
    "            # 未知語はunkとして扱う\n",
    "            wv[i] = glove_wvs['unk']\n",
    "            \n",
    "            # どのような単語が未知語とされているか見るとどんな前処理がされたか察せる\n",
    "            # print('{} is unknown word'.format(word))\n",
    "    return wv    \n",
    "    \n",
    "def docs_to_wvs(docs, glove_wvs):\n",
    "    wvs = [0] * len(docs)\n",
    "    for i, doc in enumerate(docs):\n",
    "        wvs[i] = doc_to_wv(doc, glove_wvs)\n",
    "    return wvs"
   ]
  },
  {
   "cell_type": "code",
   "execution_count": 6,
   "metadata": {},
   "outputs": [],
   "source": [
    "def get_mean_wvs(wvs):\n",
    "    mean_wvs = [0] * len(wvs)\n",
    "    for i, wv in enumerate(wvs):\n",
    "        mean_wvs[i] = np.mean(np.array(wv), axis=0)\n",
    "    return mean_wvs"
   ]
  },
  {
   "cell_type": "markdown",
   "metadata": {},
   "source": [
    "---"
   ]
  },
  {
   "cell_type": "code",
   "execution_count": 7,
   "metadata": {},
   "outputs": [],
   "source": [
    "glove_wvs = api.load(\"glove-wiki-gigaword-100\")"
   ]
  },
  {
   "cell_type": "code",
   "execution_count": 8,
   "metadata": {},
   "outputs": [],
   "source": [
    "with open('../data/data.txt') as f:\n",
    "    text = f.read()\n",
    "    docs = text.split('\\n')"
   ]
  },
  {
   "cell_type": "code",
   "execution_count": 9,
   "metadata": {},
   "outputs": [],
   "source": [
    "wvs = docs_to_wvs(docs, glove_wvs) # (500, 2000~3000, 100)"
   ]
  },
  {
   "cell_type": "code",
   "execution_count": 10,
   "metadata": {
    "scrolled": true
   },
   "outputs": [],
   "source": [
    "mean_wvs = get_mean_wvs(wvs) # (500,100)"
   ]
  },
  {
   "cell_type": "code",
   "execution_count": 11,
   "metadata": {},
   "outputs": [],
   "source": [
    "# 保存\n",
    "with open('../data/word_emb_mean.csv', 'w') as f:\n",
    "    writer = csv.writer(f)\n",
    "    writer.writerows(mean_wvs)"
   ]
  },
  {
   "cell_type": "markdown",
   "metadata": {},
   "source": [
    "参考\n",
    "- [How to use pre-trained word vectors from Facebook’s fastText](https://blog.manash.me/how-to-use-pre-trained-word-vectors-from-facebooks-fasttext-a71e6d55f27)  \n",
    "- [Word2Vec and FastText Word Embedding with Gensim](https://towardsdatascience.com/word-embedding-with-word2vec-and-fasttext-a209c1d3e12c)"
   ]
  }
 ],
 "metadata": {
  "kernelspec": {
   "display_name": "Python 3",
   "language": "python",
   "name": "python3"
  },
  "language_info": {
   "codemirror_mode": {
    "name": "ipython",
    "version": 3
   },
   "file_extension": ".py",
   "mimetype": "text/x-python",
   "name": "python",
   "nbconvert_exporter": "python",
   "pygments_lexer": "ipython3",
   "version": "3.6.3"
  }
 },
 "nbformat": 4,
 "nbformat_minor": 2
}
