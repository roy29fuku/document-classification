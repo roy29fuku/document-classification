{
 "cells": [
  {
   "cell_type": "markdown",
   "metadata": {},
   "source": [
    "# 特徴量1 Bag of Words"
   ]
  },
  {
   "cell_type": "code",
   "execution_count": 1,
   "metadata": {},
   "outputs": [],
   "source": [
    "import csv"
   ]
  },
  {
   "cell_type": "code",
   "execution_count": 2,
   "metadata": {},
   "outputs": [],
   "source": [
    "# 全文書から語彙を作成\n",
    "def get_vocab_to_idx(docs):\n",
    "    all_words = []\n",
    "    for doc in docs:\n",
    "        all_words.extend(doc.split())\n",
    "    vocab = list(set(all_words))\n",
    "    vocab_to_idx = {v:i for i, v in enumerate(vocab)}\n",
    "    return vocab_to_idx"
   ]
  },
  {
   "cell_type": "code",
   "execution_count": 7,
   "metadata": {},
   "outputs": [],
   "source": [
    "# 文書をBoWに変換\n",
    "def doc_to_bow(doc, vocab_to_idx):\n",
    "    bow = [0] * len(vocab_to_idx)\n",
    "    for word in doc.split():\n",
    "        bow[vocab_to_idx[word]] += 1\n",
    "    return bow\n",
    "\n",
    "def docs_to_bows(docs, vocab_to_idx):\n",
    "    bows = [0] * len(docs)\n",
    "    for i, doc in enumerate(docs):\n",
    "        bows[i] = doc_to_bow(doc, vocab_to_idx)\n",
    "    return bows"
   ]
  },
  {
   "cell_type": "markdown",
   "metadata": {},
   "source": [
    "---"
   ]
  },
  {
   "cell_type": "code",
   "execution_count": 4,
   "metadata": {},
   "outputs": [],
   "source": [
    "with open('../data/data.txt') as f:\n",
    "    text = f.read()\n",
    "    docs = text.split('\\n')"
   ]
  },
  {
   "cell_type": "code",
   "execution_count": 5,
   "metadata": {},
   "outputs": [],
   "source": [
    "vocab_to_idx = get_vocab_to_idx(docs)\n",
    "bows = docs_to_bows(docs, vocab_to_idx)"
   ]
  },
  {
   "cell_type": "code",
   "execution_count": 6,
   "metadata": {},
   "outputs": [],
   "source": [
    "# 保存\n",
    "with open('../data/bow.csv', 'w') as f:\n",
    "    writer = csv.writer(f)\n",
    "    writer.writerows(bows)"
   ]
  },
  {
   "cell_type": "code",
   "execution_count": null,
   "metadata": {},
   "outputs": [],
   "source": []
  }
 ],
 "metadata": {
  "kernelspec": {
   "display_name": "Python 3",
   "language": "python",
   "name": "python3"
  },
  "language_info": {
   "codemirror_mode": {
    "name": "ipython",
    "version": 3
   },
   "file_extension": ".py",
   "mimetype": "text/x-python",
   "name": "python",
   "nbconvert_exporter": "python",
   "pygments_lexer": "ipython3",
   "version": "3.6.3"
  }
 },
 "nbformat": 4,
 "nbformat_minor": 2
}
