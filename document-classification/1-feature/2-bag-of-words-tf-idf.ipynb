{
 "cells": [
  {
   "cell_type": "markdown",
   "metadata": {},
   "source": [
    "# 特徴量2 Bag of Words + tf-idf"
   ]
  },
  {
   "cell_type": "markdown",
   "metadata": {},
   "source": [
    "1-1-bag-of-wordsで算出したBag of Wordsにtf-idfを掛け合わせます\n",
    "idfの計算方法は[sklearn.TfidfTransformer](https://github.com/scikit-learn/scikit-learn/blob/14031f6/sklearn/feature_extraction/text.py#L941)に準拠しました\n",
    "\n",
    "idf = log( (1 + N) / (1 + d) ) + 1\n",
    "\n",
    "0除算を防ぎつつ、idfが0になることを防ぐことで全ての文書に登場する単語を完全には無視しないようになっています"
   ]
  },
  {
   "cell_type": "code",
   "execution_count": 1,
   "metadata": {},
   "outputs": [],
   "source": [
    "import math\n",
    "import csv\n",
    "import pandas as pd\n",
    "from tqdm import tqdm_notebook as tqdm\n",
    "tqdm.monitor_interval = 0"
   ]
  },
  {
   "cell_type": "code",
   "execution_count": 2,
   "metadata": {},
   "outputs": [],
   "source": [
    "# 1-1で算出したbowをロード\n",
    "bows = pd.read_csv('../../data/bow.csv', header=None) # (500, 49815)"
   ]
  },
  {
   "cell_type": "code",
   "execution_count": 3,
   "metadata": {},
   "outputs": [],
   "source": [
    "def calc_tfidf(bows):\n",
    "    tf = calc_tf(bows) # (500, 49815)\n",
    "    idf = calc_tf(bows)\n",
    "    bows_tfidf = tf.mul(idf, axis=1)\n",
    "    return bows_tfidf"
   ]
  },
  {
   "cell_type": "code",
   "execution_count": 4,
   "metadata": {},
   "outputs": [],
   "source": [
    "def calc_tf(bows):\n",
    "    word_num = bows.sum(axis=1)\n",
    "    tf = bows.div(word_num, axis=0)\n",
    "    return tf"
   ]
  },
  {
   "cell_type": "code",
   "execution_count": 5,
   "metadata": {},
   "outputs": [],
   "source": [
    "def calc_idf(bows):\n",
    "    doc_num = len(bows)\n",
    "    doc_num_has_word = bows.applymap(bool).sum(axis=0) # (49815,)\n",
    "    idf = ( (1+ doc_num) / (1 + doc_num_has_word) ).apply(math.log) + 1 # (49815,)\n",
    "    return idf"
   ]
  },
  {
   "cell_type": "code",
   "execution_count": 6,
   "metadata": {},
   "outputs": [],
   "source": [
    "bows_tfidf = calc_tfidf(bows)"
   ]
  },
  {
   "cell_type": "code",
   "execution_count": 7,
   "metadata": {},
   "outputs": [],
   "source": [
    "# 保存\n",
    "bows_tfidf.to_csv('../../data/bow_tfidf.csv', index=False, header=False)"
   ]
  },
  {
   "cell_type": "code",
   "execution_count": null,
   "metadata": {},
   "outputs": [],
   "source": []
  }
 ],
 "metadata": {
  "kernelspec": {
   "display_name": "Python 3",
   "language": "python",
   "name": "python3"
  },
  "language_info": {
   "codemirror_mode": {
    "name": "ipython",
    "version": 3
   },
   "file_extension": ".py",
   "mimetype": "text/x-python",
   "name": "python",
   "nbconvert_exporter": "python",
   "pygments_lexer": "ipython3",
   "version": "3.6.3"
  }
 },
 "nbformat": 4,
 "nbformat_minor": 2
}
